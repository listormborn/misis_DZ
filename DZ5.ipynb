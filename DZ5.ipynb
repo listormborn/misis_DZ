{
 "cells": [
  {
   "cell_type": "code",
   "execution_count": 2,
   "id": "9c56ebd9",
   "metadata": {},
   "outputs": [
    {
     "name": "stdout",
     "output_type": "stream",
     "text": [
      "Студент 1:\n",
      "ФИО: Ivan \n",
      "Возраст: 18 \n",
      "Номер Группы: 10A\n",
      "Студент 2:\n",
      "ФИО: Анна \n",
      "Возраст: 22 \n",
      "Номер Группы: ФН1-72Б\n",
      "Студент 3:\n",
      "ФИО: Лика \n",
      "Возраст: 23 \n",
      "Номер Группы: МИСТ-22\n",
      "Студент 4:\n",
      "ФИО: Магомед \n",
      "Возраст: 35 \n",
      "Номер Группы: ИУ7-23Б\n",
      "Студент 5:\n",
      "ФИО: Настя \n",
      "Возраст: 18 \n",
      "Номер Группы: МИСТ-21\n"
     ]
    }
   ],
   "source": [
    "class Student():\n",
    "    def __init__(self, name='Ivan', age=18, groupNumber='10A'):\n",
    "        self.name = name\n",
    "        self.age = age\n",
    "        self.groupNumber = groupNumber\n",
    "    \n",
    "    def __str__(self):\n",
    "        return f'ФИО: {self.name} \\nВозраст: {self.age} \\nНомер Группы: {self.groupNumber}'\n",
    "    \n",
    "    def getName(self):\n",
    "        return self.name\n",
    "    \n",
    "    def getAge(self):\n",
    "        return self.age\n",
    "    \n",
    "    def getGroupNumber(self):\n",
    "        return self.groupNumber\n",
    "    \n",
    "    def setNameAge(self, name, age):\n",
    "        self.name = name\n",
    "        self.age = age\n",
    "    \n",
    "    def setAge(self, age):\n",
    "        self.age = age\n",
    "    \n",
    "    def setGroupNumber(self, groupNumber):\n",
    "        self.groupNumber = groupNumber\n",
    "print(\"Студент 1:\")\n",
    "student1 = Student()\n",
    "print(student1)\n",
    "print(\"Студент 2:\")\n",
    "student2 = Student(\"Анна\", \"22\", \"ФН1-72Б\")\n",
    "print(student2)\n",
    "print(\"Студент 3:\")\n",
    "student3 = Student()\n",
    "student3.setNameAge(\"Лика\", \"23\")\n",
    "student3.setGroupNumber(\"МИСТ-22\")\n",
    "print(student3)\n",
    "print(\"Студент 4:\")\n",
    "student4 = Student(\"Магомед\", 35, \"ИУ7-23Б\")\n",
    "print(student4)\n",
    "print(\"Студент 5:\")\n",
    "student5 = Student(\"Настя\", 18, \"МИСТ-21\")\n",
    "print(student5)"
   ]
  },
  {
   "cell_type": "code",
   "execution_count": 3,
   "id": "0751367c",
   "metadata": {},
   "outputs": [],
   "source": [
    "class Car:\n",
    "    def __init__(self, color = 'черный', type = 'седан', year = '2000'):\n",
    "        self.color = color\n",
    "        self.type = type\n",
    "        self.year = year\n",
    "        \n",
    "    def __str__(self):\n",
    "        return f'{self.color} автомобиль {self.type} {self.year} года стоит у входа'\n",
    "        \n",
    "    def start(self):\n",
    "        print(f'Автомобиль заведен')\n",
    "    \n",
    "    def finish(self):\n",
    "        print(f'Автомобиль заглушен')\n",
    "    \n",
    "    def setYear(self, new_year):\n",
    "        self.year = new_year\n",
    "        print(f'Автомобиль {self.year} года')\n",
    "    \n",
    "    def setType(self, new_type):\n",
    "        self.type = new_type\n",
    "        print(f'Автомобиль {self.type}')\n",
    "    \n",
    "    def setColor(self, new_color):\n",
    "        self.color = new_color\n",
    "        print(f'Автомобиль {self.color}')"
   ]
  },
  {
   "cell_type": "code",
   "execution_count": 4,
   "id": "18e301c3",
   "metadata": {},
   "outputs": [
    {
     "name": "stdout",
     "output_type": "stream",
     "text": [
      "черный автомобиль седан 2000 года стоит у входа\n"
     ]
    }
   ],
   "source": [
    "Touareg = Car()\n",
    "print(Touareg)"
   ]
  },
  {
   "cell_type": "code",
   "execution_count": 6,
   "id": "eebf0867",
   "metadata": {},
   "outputs": [
    {
     "name": "stdout",
     "output_type": "stream",
     "text": [
      "Автомобиль заведен\n",
      "Автомобиль заглушен\n",
      "Автомобиль 1998 года\n",
      "Автомобиль легковой\n",
      "Автомобиль белый\n",
      "белый автомобиль легковой 1998 года стоит у входа\n"
     ]
    }
   ],
   "source": [
    "Touareg.start()\n",
    "Touareg.finish()\n",
    "Touareg.setYear('1998')\n",
    "Touareg.setType('легковой')\n",
    "Touareg.setColor('белый')\n",
    "\n",
    "print(Touareg)"
   ]
  },
  {
   "cell_type": "code",
   "execution_count": 7,
   "id": "8f8971c1",
   "metadata": {},
   "outputs": [],
   "source": [
    "class NutritionInfo:\n",
    "    def __init__(self, proteins, carbs, fats):\n",
    "        self.proteins = proteins\n",
    "        self.carbs = carbs\n",
    "        self.fats = fats\n",
    "    \n",
    "    def __add__(self, other):\n",
    "        return NutritionInfo(self.proteins + other.proteins, self.carbs + other.carbs, self.fats + other.fats)\n",
    "    \n",
    "    def __mul__(self, number):\n",
    "        if type(number)==int or type(number)==float:\n",
    "            return NutritionInfo(self.proteins*number, self.carbs*number, self.fats*number)\n",
    "        else:\n",
    "            return 'Something went wrong...'\n",
    "    \n",
    "    def __str__(self):\n",
    "        return f\"Nutrition p {self.proteins}, c {self.carbs}, f {self.fats}\"\n",
    "        \n",
    "    def energy(self):\n",
    "        return int(self.fats * 9 + (self.carbs + self.proteins) * 4.2)"
   ]
  },
  {
   "cell_type": "code",
   "execution_count": 8,
   "id": "27b5fd4e",
   "metadata": {},
   "outputs": [
    {
     "name": "stdout",
     "output_type": "stream",
     "text": [
      "Nutrition p 1, c 2, f 3\n",
      "Nutrition p 1, c 2, f 3\n",
      "Nutrition p 18, c 3, f 9\n",
      "Nutrition p 2, c 4, f 6\n",
      "Nutrition p 2, c 4, f 6\n",
      "Nutrition p 56, c 13, f 33\n",
      "Nutrition p 45.0, c 7.5, f 22.5\n",
      "Something went wrong...\n"
     ]
    }
   ],
   "source": [
    "egg = NutritionInfo(1, 2, 3)\n",
    "pastila = NutritionInfo(1, 2, 3)\n",
    "tvorog_9 = NutritionInfo(18, 3, 9)\n",
    "apple = NutritionInfo(0, 25, 0)\n",
    "\n",
    "print(egg)\n",
    "print(pastila)\n",
    "print(tvorog_9)\n",
    "print(egg + pastila)\n",
    "print(egg*2)\n",
    "print(egg*2+tvorog_9*3)\n",
    "print(tvorog_9*2.5)\n",
    "print(egg*apple)"
   ]
  },
  {
   "cell_type": "code",
   "execution_count": null,
   "id": "70714d56",
   "metadata": {},
   "outputs": [],
   "source": []
  }
 ],
 "metadata": {
  "kernelspec": {
   "display_name": "Python 3 (ipykernel)",
   "language": "python",
   "name": "python3"
  },
  "language_info": {
   "codemirror_mode": {
    "name": "ipython",
    "version": 3
   },
   "file_extension": ".py",
   "mimetype": "text/x-python",
   "name": "python",
   "nbconvert_exporter": "python",
   "pygments_lexer": "ipython3",
   "version": "3.10.8"
  }
 },
 "nbformat": 4,
 "nbformat_minor": 5
}
