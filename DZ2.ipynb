{
 "cells": [
  {
   "cell_type": "code",
   "execution_count": 1,
   "id": "189c5b71",
   "metadata": {},
   "outputs": [
    {
     "name": "stdout",
     "output_type": "stream",
     "text": [
      "Введите номер месяца: 5\n",
      "Месяц: Май\n"
     ]
    }
   ],
   "source": [
    "month = 1\n",
    "calendar = ['Январь', 'Февраль', 'Март', 'Апрель', 'Май', 'Июнь', 'Июль', 'Август', 'Сентябрь', 'Октябрь', 'Ноябрь', 'Декабрь']\n",
    "month = int(input('Введите номер месяца: '))\n",
    "\n",
    "if (month > 0) & (month <= len(calendar)):\n",
    "    print('Месяц:', calendar[month - 1])\n",
    "else: \n",
    "    print('Некорректные данные')"
   ]
  },
  {
   "cell_type": "code",
   "execution_count": 3,
   "id": "d2235c68",
   "metadata": {},
   "outputs": [
    {
     "name": "stdout",
     "output_type": "stream",
     "text": [
      "Введите число a: 600\n",
      "Введите число b: 1012\n",
      "Наибольший общий делитель: 4\n"
     ]
    }
   ],
   "source": [
    "a = 600\n",
    "b = 1012\n",
    "a = int(input('Введите число a: '))\n",
    "b = int(input('Введите число b: '))\n",
    "\n",
    "if a > b:\n",
    "    s = a\n",
    "else: \n",
    "    s = b\n",
    "for i in range(1, s + 1):\n",
    "    if a % i == 0 and b % i == 0:\n",
    "        nod = i\n",
    "        \n",
    "print(f'Наибольший общий делитель: {nod}')"
   ]
  },
  {
   "cell_type": "code",
   "execution_count": 4,
   "id": "85eae59a",
   "metadata": {},
   "outputs": [
    {
     "name": "stdout",
     "output_type": "stream",
     "text": [
      "Расширение для файла \"Моя диссертация.gif\" корректно\n"
     ]
    }
   ],
   "source": [
    "file = 'Моя диссертация.gif'\n",
    "extensions = ['png', 'jpg', 'jpeg', 'gif', 'svg']\n",
    "if file[-3:] in extensions:\n",
    "    print (f'Расширение для файла \"{file}\" корректно')\n",
    "else:\n",
    "    print('Некорректный формат')"
   ]
  },
  {
   "cell_type": "code",
   "execution_count": 6,
   "id": "a27da24e",
   "metadata": {},
   "outputs": [
    {
     "name": "stdout",
     "output_type": "stream",
     "text": [
      "Какрй год 2022\n",
      "2022 Невисокосный\n"
     ]
    }
   ],
   "source": [
    "year = 2022\n",
    "year = int(input('Какрй год '))\n",
    "\n",
    "if year % 4 == 0:\n",
    "    print (f'{year} Всокосный год')\n",
    "elif year % 400 == 0 and year % 100 == 0:\n",
    "    print (f'{year} Високосный год')\n",
    "else:\n",
    "    print (f'{year} Невисокосный')"
   ]
  },
  {
   "cell_type": "code",
   "execution_count": null,
   "id": "0b5d95a0",
   "metadata": {},
   "outputs": [],
   "source": []
  }
 ],
 "metadata": {
  "kernelspec": {
   "display_name": "Python 3 (ipykernel)",
   "language": "python",
   "name": "python3"
  },
  "language_info": {
   "codemirror_mode": {
    "name": "ipython",
    "version": 3
   },
   "file_extension": ".py",
   "mimetype": "text/x-python",
   "name": "python",
   "nbconvert_exporter": "python",
   "pygments_lexer": "ipython3",
   "version": "3.10.8"
  }
 },
 "nbformat": 4,
 "nbformat_minor": 5
}
