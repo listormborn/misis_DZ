{
 "cells": [
  {
   "cell_type": "code",
   "execution_count": 3,
   "id": "e2e90635",
   "metadata": {},
   "outputs": [
    {
     "name": "stdout",
     "output_type": "stream",
     "text": [
      "Введи число: 5.3\n",
      "Введи операцию: +\n",
      "Введи число: 1\n",
      "6.3\n"
     ]
    }
   ],
   "source": [
    "a = float(input(\"Введи число: \"))\n",
    "res = input(\"Введи операцию: \")\n",
    "b = float(input(\"Введи число: \"))\n",
    "if (res == '+'):\n",
    "    print(a+b)\n",
    "elif (res == '-'):\n",
    "    print(a-b)\n",
    "elif (res == '/'):\n",
    "    print(a/b)\n",
    "elif (res == '*'):\n",
    "    print(a*b)\n",
    "else:\n",
    "    print(\"Ошибка\")\n",
    "\n"
   ]
  },
  {
   "cell_type": "code",
   "execution_count": 1,
   "id": "6ccb2688",
   "metadata": {},
   "outputs": [
    {
     "name": "stdout",
     "output_type": "stream",
     "text": [
      "0 2 46 40\n"
     ]
    }
   ],
   "source": [
    "seconds = 10000\n",
    "sec = seconds % 60\n",
    "min = seconds // 60\n",
    "minuts = min % 60\n",
    "hrs = min // 60\n",
    "hours = hrs % 60\n",
    "day = hours // 24\n",
    "print(day, hours, minuts, sec)"
   ]
  },
  {
   "cell_type": "code",
   "execution_count": 2,
   "id": "e02f2d2d",
   "metadata": {},
   "outputs": [
    {
     "name": "stdout",
     "output_type": "stream",
     "text": [
      "Строка 1 = read\n",
      "Строка 2 = write\n",
      "read$write\n",
      "read&write\n"
     ]
    }
   ],
   "source": [
    "s1 = input(\"Строка 1 = \")\n",
    "s2 = input(\"Строка 2 = \")\n",
    "print(s1, s2, sep = \"$\")\n",
    "print(f\"{s1}&{s2}\")      "
   ]
  },
  {
   "cell_type": "code",
   "execution_count": 10,
   "id": "227a3015",
   "metadata": {},
   "outputs": [
    {
     "name": "stdout",
     "output_type": "stream",
     "text": [
      "Введи имя Иван\n",
      "Введи возраст 4\n",
      "С днём рождения, Иван!\n",
      "С днём рождения, Иван!\n",
      "С днём рождения, Иван!\n",
      "С днём рождения, Иван!\n",
      "\n"
     ]
    }
   ],
   "source": [
    "name = input(\"Введи имя \")\n",
    "age = int(input(\"Введи возраст \"))\n",
    "\n",
    "print(f'С днём рождения, {name}!\\n'*age)"
   ]
  },
  {
   "cell_type": "code",
   "execution_count": null,
   "id": "a2e31e6f",
   "metadata": {},
   "outputs": [],
   "source": []
  }
 ],
 "metadata": {
  "kernelspec": {
   "display_name": "Python 3 (ipykernel)",
   "language": "python",
   "name": "python3"
  },
  "language_info": {
   "codemirror_mode": {
    "name": "ipython",
    "version": 3
   },
   "file_extension": ".py",
   "mimetype": "text/x-python",
   "name": "python",
   "nbconvert_exporter": "python",
   "pygments_lexer": "ipython3",
   "version": "3.10.8"
  }
 },
 "nbformat": 4,
 "nbformat_minor": 5
}
