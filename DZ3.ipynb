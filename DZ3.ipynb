{
 "cells": [
  {
   "cell_type": "code",
   "execution_count": 2,
   "id": "29ccedfe",
   "metadata": {},
   "outputs": [
    {
     "name": "stdout",
     "output_type": "stream",
     "text": [
      "6.0\n",
      "4.0\n"
     ]
    }
   ],
   "source": [
    "def kor(x, n = 2):\n",
    "    return x**(1/n)\n",
    "\n",
    "print(round(kor(216,3),3))\n",
    "print(round(kor(16),3))"
   ]
  },
  {
   "cell_type": "code",
   "execution_count": 9,
   "id": "d594538f",
   "metadata": {},
   "outputs": [
    {
     "name": "stdout",
     "output_type": "stream",
     "text": [
      "Допустимое расширение\n"
     ]
    }
   ],
   "source": [
    "def check(file, extensions):\n",
    "    fileSplit = file.split(\".\")\n",
    "    extension = fileSplit[len(fileSplit)-1]\n",
    "    if extension in extensions:\n",
    "        print(\"Допустимое расширение\")\n",
    "    else:\n",
    "        print(\"Недопустимое расширение\")\n",
    "        \n",
    "file='file.gif'\n",
    "extensions = ['png', 'jpg', 'jpeg', 'gif', 'svg']\n",
    "check(file, extensions)"
   ]
  },
  {
   "cell_type": "code",
   "execution_count": 10,
   "id": "89729a46",
   "metadata": {},
   "outputs": [
    {
     "name": "stdout",
     "output_type": "stream",
     "text": [
      "{1: 10, 2: 20, 3: 30, 4: 40, 5: 50, 6: 60}\n"
     ]
    }
   ],
   "source": [
    "dict_a = {1:10, 2:20}\n",
    "dict_b = {3:30, 4:40}\n",
    "dict_c = {5:50, 6:60}\n",
    "dict_abc = {}\n",
    "dict_abc.update(dict_a)\n",
    "dict_abc.update(dict_b)\n",
    "dict_abc.update(dict_c)\n",
    "print(dict_abc)"
   ]
  },
  {
   "cell_type": "code",
   "execution_count": 11,
   "id": "4d3e226a",
   "metadata": {},
   "outputs": [
    {
     "name": "stdout",
     "output_type": "stream",
     "text": [
      "Введите число: 4567\n",
      "22\n"
     ]
    }
   ],
   "source": [
    "def summ(n):\n",
    "    a = 0\n",
    "    while n > 0:\n",
    "        a = a+n%10\n",
    "        n = n//10\n",
    "    return a\n",
    "\n",
    "n = int(input('Введите число: '))\n",
    "print(summ(n))"
   ]
  },
  {
   "cell_type": "code",
   "execution_count": 12,
   "id": "48b59186",
   "metadata": {},
   "outputs": [
    {
     "name": "stdout",
     "output_type": "stream",
     "text": [
      "Все числа уникальны\n"
     ]
    }
   ],
   "source": [
    "n=[1,4,5]\n",
    "def prov(n):\n",
    "    if len(n) == len(set(n)):\n",
    "        print('Все числа уникальны')\n",
    "    else:\n",
    "        print('Не уникальны')\n",
    "prov(n)"
   ]
  },
  {
   "cell_type": "code",
   "execution_count": 14,
   "id": "a2c35a02",
   "metadata": {},
   "outputs": [
    {
     "name": "stdout",
     "output_type": "stream",
     "text": [
      "НОМЕР 0 --> я\n",
      "НОМЕР 1 --> бу\n",
      "НОМЕР 2 --> ду\n",
      "НОМЕР 3 --> до\n",
      "НОМЕР 4 --> ма\n",
      "НОМЕР 5 --> !\n"
     ]
    }
   ],
   "source": [
    "def prin(list):\n",
    "    i=0\n",
    "    while i < len(list):\n",
    "        name = list[i]\n",
    "        print(f\"НОМЕР {list.index(name)} --> {name}\")\n",
    "        i=i+1\n",
    "        \n",
    "prin((\"я\", \"бу\", \"ду\", \"до\", \"ма\", \"!\"))  "
   ]
  },
  {
   "cell_type": "code",
   "execution_count": 16,
   "id": "e8dfcae0",
   "metadata": {},
   "outputs": [
    {
     "name": "stdout",
     "output_type": "stream",
     "text": [
      "Ключ key1 --> 2\n",
      "Ключ key3 --> False\n",
      "Ключ Приветствие --> Hello\n"
     ]
    }
   ],
   "source": [
    "def prin_dict(dict):\n",
    "    for key, value in dict.items():\n",
    "         print(f'Ключ {key} --> {value}')\n",
    "            \n",
    "prin_dict({\"key1\": 2, \"key3\": False, \"Приветствие\": \"Hello\"})"
   ]
  },
  {
   "cell_type": "code",
   "execution_count": 17,
   "id": "6110c62f",
   "metadata": {},
   "outputs": [],
   "source": [
    "def prin_overlord(dict):\n",
    "    if type(dict) is list:\n",
    "        prin(mydict)\n",
    "    elif type(dict) is dict:\n",
    "        prin_dict(dict)\n",
    "    else:\n",
    "        print(dict)"
   ]
  },
  {
   "cell_type": "code",
   "execution_count": null,
   "id": "fd2c5980",
   "metadata": {},
   "outputs": [],
   "source": []
  }
 ],
 "metadata": {
  "kernelspec": {
   "display_name": "Python 3 (ipykernel)",
   "language": "python",
   "name": "python3"
  },
  "language_info": {
   "codemirror_mode": {
    "name": "ipython",
    "version": 3
   },
   "file_extension": ".py",
   "mimetype": "text/x-python",
   "name": "python",
   "nbconvert_exporter": "python",
   "pygments_lexer": "ipython3",
   "version": "3.10.8"
  }
 },
 "nbformat": 4,
 "nbformat_minor": 5
}
